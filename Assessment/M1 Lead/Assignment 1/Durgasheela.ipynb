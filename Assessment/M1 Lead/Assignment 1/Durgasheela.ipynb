{
  "nbformat": 4,
  "nbformat_minor": 0,
  "metadata": {
    "colab": {
      "provenance": [],
      "collapsed_sections": []
    },
    "kernelspec": {
      "name": "python3",
      "display_name": "Python 3"
    },
    "language_info": {
      "name": "python"
    }
  },
  "cells": [
    {
      "cell_type": "code",
      "source": [],
      "metadata": {
        "id": "ZC8aiYGJeGjL"
      },
      "execution_count": null,
      "outputs": []
    },
    {
      "cell_type": "code",
      "execution_count": null,
      "metadata": {
        "colab": {
          "base_uri": "https://localhost:8080/"
        },
        "id": "zPe3NzVPeAVD",
        "outputId": "e4047b66-0146-46f2-c481-da0f76648a18"
      },
      "outputs": [
        {
          "output_type": "stream",
          "name": "stdout",
          "text": [
            "15\n",
            "30\n",
            "45\n",
            "60\n",
            "75\n",
            "90\n"
          ]
        }
      ],
      "source": [
        "n=1\n",
        "while(n<=100):\n",
        "  if (n%5==0) & (n%3==0):\n",
        "    print(n)\n",
        "  n=n+1"
      ]
    },
    {
      "cell_type": "code",
      "source": [
        "string=\"brigita\"\n",
        "for i in string:\n",
        "  print(i)"
      ],
      "metadata": {
        "colab": {
          "base_uri": "https://localhost:8080/"
        },
        "id": "ogztJxN-jL9v",
        "outputId": "0612c1b4-e4b8-4c28-fcd8-ea5d19f7fb01"
      },
      "execution_count": null,
      "outputs": [
        {
          "output_type": "stream",
          "name": "stdout",
          "text": [
            "b\n",
            "r\n",
            "i\n",
            "g\n",
            "i\n",
            "t\n",
            "a\n"
          ]
        }
      ]
    }
  ]
}